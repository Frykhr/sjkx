{
 "cells": [
  {
   "cell_type": "code",
   "execution_count": null,
   "id": "a1d155c4",
   "metadata": {},
   "outputs": [],
   "source": [
    "Python"
   ]
  },
  {
   "cell_type": "code",
   "execution_count": 2,
   "id": "67f5b10b",
   "metadata": {},
   "outputs": [
    {
     "name": "stdout",
     "output_type": "stream",
     "text": [
      "1\n",
      "3\n",
      "5\n",
      "7\n",
      "9\n",
      "11\n",
      "13\n",
      "15\n",
      "17\n",
      "19\n",
      "21\n",
      "23\n",
      "25\n",
      "27\n",
      "29\n",
      "31\n",
      "33\n",
      "35\n",
      "37\n",
      "39\n",
      "41\n",
      "43\n",
      "45\n",
      "47\n",
      "49\n",
      "51\n",
      "53\n",
      "55\n",
      "57\n",
      "59\n",
      "61\n",
      "63\n",
      "65\n",
      "67\n",
      "69\n",
      "71\n",
      "73\n",
      "75\n",
      "77\n",
      "79\n",
      "81\n",
      "83\n",
      "85\n",
      "87\n",
      "89\n",
      "91\n",
      "93\n",
      "95\n",
      "97\n",
      "99\n",
      "3\n",
      "58435841445947272053455474390625\n"
     ]
    }
   ],
   "source": [
    "s=1\n",
    "for i in range(1,100):\n",
    "    if i%2!=0:\n",
    "        print(i)\n",
    "        if i<50:\n",
    "            s*=i\n",
    "print(s)\n",
    "        \n"
   ]
  },
  {
   "cell_type": "code",
   "execution_count": 16,
   "id": "e61dc1f4",
   "metadata": {},
   "outputs": [
    {
     "name": "stdout",
     "output_type": "stream",
     "text": [
      "[5, 4, 3, 2, 1]\n"
     ]
    }
   ],
   "source": [
    "l = [1,2,3,4,5]\n",
    "arr=[0,0,0,0,0]\n",
    "for i in range(0,5):\n",
    "    arr[4-i]=l[i]\n",
    "print(arr)"
   ]
  },
  {
   "cell_type": "code",
   "execution_count": 21,
   "id": "14b75242",
   "metadata": {},
   "outputs": [
    {
     "name": "stdout",
     "output_type": "stream",
     "text": [
      "[5, 4, 3, 2, 1]\n"
     ]
    }
   ],
   "source": [
    "l = [1,2,3,4,5]\n",
    "arr=[0,0,0,0,0]\n",
    "i=4\n",
    "while i>=0:\n",
    "    arr[4-i]=l[i]\n",
    "    i-=1\n",
    "print(arr)"
   ]
  },
  {
   "cell_type": "code",
   "execution_count": 29,
   "id": "4b7ee911",
   "metadata": {},
   "outputs": [
    {
     "name": "stdout",
     "output_type": "stream",
     "text": [
      "[5, 4, 3, 2, 1]\n"
     ]
    }
   ],
   "source": [
    "l = [1,2,3,4,5]\n",
    "print(l[::-1])"
   ]
  },
  {
   "cell_type": "code",
   "execution_count": 4,
   "id": "cd048cce",
   "metadata": {},
   "outputs": [
    {
     "name": "stdout",
     "output_type": "stream",
     "text": [
      "qwqwqwqwqwaaabbbb\n",
      "b 4\n"
     ]
    }
   ],
   "source": [
    "str=input()\n",
    "l=len(str)\n",
    "arr=[1]*26\n",
    "max=0\n",
    "j=0\n",
    "for i in range(0,l-1):\n",
    "    if str[i]==str[i+1]:\n",
    "        arr[ord(str[i])-97]+=1\n",
    "for i in range(0,25):\n",
    "    if max<arr[i]:\n",
    "        max=arr[i]\n",
    "        j=i\n",
    "print(chr(j+97),max)"
   ]
  },
  {
   "cell_type": "code",
   "execution_count": 7,
   "id": "b267f5e5",
   "metadata": {
    "scrolled": true
   },
   "outputs": [
    {
     "name": "stdout",
     "output_type": "stream",
     "text": [
      "a a s \n",
      "aas\n"
     ]
    }
   ],
   "source": [
    "a=input()\n",
    "c = \"\".join(a.split()) \n",
    "print(c)"
   ]
  },
  {
   "cell_type": "code",
   "execution_count": null,
   "id": "33b36572",
   "metadata": {},
   "outputs": [],
   "source": [
    "#数据思维"
   ]
  },
  {
   "cell_type": "code",
   "execution_count": 2,
   "id": "c688b9b3",
   "metadata": {},
   "outputs": [
    {
     "name": "stdout",
     "output_type": "stream",
     "text": [
      "0.5749157116205871\n"
     ]
    }
   ],
   "source": [
    "import math\n",
    "import random\n",
    " \n",
    "#积分区间\n",
    "upper_bound=1\n",
    "lower_bound=0\n",
    "\n",
    "\n",
    "\n",
    "def f_x_(x):\n",
    "    outcome=x**3+x**2\n",
    "    return outcome\n",
    "\n",
    "sum=0\n",
    "count=1\n",
    "while count<=10000:\n",
    "    sum=sum+f_x_(random.uniform(lower_bound,upper_bound))\n",
    "    count=count+1\n",
    "r=(upper_bound-lower_bound)*(sum/10000)\n",
    "print(r)"
   ]
  },
  {
   "cell_type": "code",
   "execution_count": 1,
   "id": "247e6ca8",
   "metadata": {},
   "outputs": [
    {
     "name": "stdout",
     "output_type": "stream",
     "text": [
      "41418:g-1.41418\n"
     ]
    }
   ],
   "source": [
    "def sr_1():\n",
    "    c=2\n",
    "    i=0\n",
    "    g=0\n",
    "    for j in range(0,c+1):\n",
    "        if (j**2)>c and g==0:\n",
    "            g=j-1\n",
    "    while(abs(g**2-c)>0.0001):\n",
    "        g+=0.00001\n",
    "        i+=1\n",
    "    print(\"%d:g-%.5f\"%(i,g))\n",
    "sr_1()"
   ]
  },
  {
   "cell_type": "code",
   "execution_count": 4,
   "id": "a2f72007",
   "metadata": {},
   "outputs": [
    {
     "name": "stdout",
     "output_type": "stream",
     "text": [
      "36:g-1.4142135623697\n"
     ]
    }
   ],
   "source": [
    "def sr_2():\n",
    "    i=0\n",
    "    c=2\n",
    "    max=c\n",
    "    min=0\n",
    "    g=(min+max)/2\n",
    "    while(abs(g*g-c)>0.00000000001):\n",
    "        if(g**2<c):\n",
    "            min=g\n",
    "        else:\n",
    "            max=g\n",
    "        g=(min+max)/2\n",
    "        i+=1\n",
    "    print(\"%d:g-%.13f\" %(i,g))\n",
    "sr_2()"
   ]
  },
  {
   "cell_type": "code",
   "execution_count": 3,
   "id": "fcbc391b",
   "metadata": {},
   "outputs": [
    {
     "name": "stdout",
     "output_type": "stream",
     "text": [
      "4:g-1.4142135623747\n"
     ]
    }
   ],
   "source": [
    "def sr_3():\n",
    "    c=2\n",
    "    g=c/2\n",
    "    i=0\n",
    "    while(abs(g**2-c)>0.00000000001):\n",
    "        g=(g+c/g)/2\n",
    "        i+=1\n",
    "    print(\"%d:g-%.13f\" %(i,g))\n",
    "    \n",
    "sr_3()"
   ]
  },
  {
   "cell_type": "code",
   "execution_count": null,
   "id": "cf4503fb",
   "metadata": {},
   "outputs": [],
   "source": []
  }
 ],
 "metadata": {
  "kernelspec": {
   "display_name": "Python 3 (ipykernel)",
   "language": "python",
   "name": "python3"
  },
  "language_info": {
   "codemirror_mode": {
    "name": "ipython",
    "version": 3
   },
   "file_extension": ".py",
   "mimetype": "text/x-python",
   "name": "python",
   "nbconvert_exporter": "python",
   "pygments_lexer": "ipython3",
   "version": "3.8.13"
  }
 },
 "nbformat": 4,
 "nbformat_minor": 5
}
